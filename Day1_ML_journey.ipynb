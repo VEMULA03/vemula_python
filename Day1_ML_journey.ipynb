{
  "nbformat": 4,
  "nbformat_minor": 0,
  "metadata": {
    "colab": {
      "provenance": []
    },
    "kernelspec": {
      "name": "python3",
      "display_name": "Python 3"
    },
    "language_info": {
      "name": "python"
    }
  },
  "cells": [
    {
      "cell_type": "code",
      "execution_count": null,
      "metadata": {
        "colab": {
          "base_uri": "https://localhost:8080/"
        },
        "id": "HpmbKqI7jltH",
        "outputId": "0ec1bf68-5f68-4ec7-f746-ea081ec8cab5"
      },
      "outputs": [
        {
          "output_type": "stream",
          "name": "stdout",
          "text": [
            "hello world\n"
          ]
        }
      ],
      "source": [
        "print(\"hello world\")"
      ]
    },
    {
      "cell_type": "code",
      "source": [
        "print(\"cherry\")"
      ],
      "metadata": {
        "colab": {
          "base_uri": "https://localhost:8080/"
        },
        "id": "LHyCAxRg7fxp",
        "outputId": "e0c415c3-4789-4da1-bdcc-34f05fe7905b"
      },
      "execution_count": null,
      "outputs": [
        {
          "output_type": "stream",
          "name": "stdout",
          "text": [
            "cherry\n"
          ]
        }
      ]
    },
    {
      "cell_type": "code",
      "source": [
        "print(\"Charan\")"
      ],
      "metadata": {
        "colab": {
          "base_uri": "https://localhost:8080/"
        },
        "id": "RMqGpaNw7ri5",
        "outputId": "5cee299f-4964-4516-c2e8-81e55801b34e"
      },
      "execution_count": null,
      "outputs": [
        {
          "output_type": "stream",
          "name": "stdout",
          "text": [
            "Charan\n"
          ]
        }
      ]
    },
    {
      "cell_type": "code",
      "source": [
        "ashdkjas"
      ],
      "metadata": {
        "id": "34ZbDQBAxLWX"
      },
      "execution_count": null,
      "outputs": []
    },
    {
      "cell_type": "code",
      "source": [
        "# single line comment\n",
        "\n",
        "st=\"\"\" add dd ffa aa lla\"\"\"\n",
        "print(st)"
      ],
      "metadata": {
        "colab": {
          "base_uri": "https://localhost:8080/"
        },
        "id": "DMVdDvBTR90e",
        "outputId": "04d6e56c-92b1-4858-93e8-482ea78411e8"
      },
      "execution_count": 1,
      "outputs": [
        {
          "output_type": "stream",
          "name": "stdout",
          "text": [
            " add dd ffa aa lla\n"
          ]
        }
      ]
    },
    {
      "cell_type": "code",
      "source": [
        "l=[20,30.3,\"ntt\",3+5j]\n",
        "print(l)\n",
        "print(type(l))\n"
      ],
      "metadata": {
        "colab": {
          "base_uri": "https://localhost:8080/"
        },
        "id": "EK0ybJqOSx1Q",
        "outputId": "4811c6d5-9787-412f-8f2b-c779013d30aa"
      },
      "execution_count": 3,
      "outputs": [
        {
          "output_type": "stream",
          "name": "stdout",
          "text": [
            "[20, 30.3, 'ntt', (3+5j)]\n",
            "<class 'list'>\n"
          ]
        }
      ]
    },
    {
      "cell_type": "code",
      "source": [
        "# type fn returns the data type class\n",
        "a=3+4j\n",
        "print(type(a))"
      ],
      "metadata": {
        "colab": {
          "base_uri": "https://localhost:8080/"
        },
        "id": "3CSHNFvbTXhI",
        "outputId": "597f36a2-f460-4108-e82b-b4b1ed8dacb3"
      },
      "execution_count": 4,
      "outputs": [
        {
          "output_type": "stream",
          "name": "stdout",
          "text": [
            "<class 'complex'>\n"
          ]
        }
      ]
    },
    {
      "cell_type": "code",
      "source": [
        "#varriable annotations\n",
        "\n",
        "name: str = \"NTT\"\n",
        "print(name)\n",
        "print(type(name) )\n",
        "\n",
        "print(__annotations__['name'])\n"
      ],
      "metadata": {
        "colab": {
          "base_uri": "https://localhost:8080/"
        },
        "id": "IHN-Ckg5Y-0n",
        "outputId": "b1a6ca1c-943c-44d5-e7e1-c490fe4d2681"
      },
      "execution_count": 5,
      "outputs": [
        {
          "output_type": "stream",
          "name": "stdout",
          "text": [
            "NTT\n",
            "<class 'str'>\n",
            "<class 'str'>\n"
          ]
        }
      ]
    },
    {
      "cell_type": "code",
      "source": [
        "# variable annotation\n",
        "\n",
        "aa: int = 10\n",
        "print(aa)\n",
        "\n",
        "print(__annotations__['aa'])\n",
        "print(type(aa))"
      ],
      "metadata": {
        "colab": {
          "base_uri": "https://localhost:8080/"
        },
        "id": "A70OmsbNZ16R",
        "outputId": "bd6fed10-b0ad-4e55-d470-79b18d2e75f0"
      },
      "execution_count": 6,
      "outputs": [
        {
          "output_type": "stream",
          "name": "stdout",
          "text": [
            "10\n",
            "<class 'int'>\n",
            "<class 'int'>\n"
          ]
        }
      ]
    },
    {
      "cell_type": "code",
      "source": [
        "#indexing\n",
        "#slicing\n",
        "\n",
        "var_name [start:stop:step]\n",
        "#step - can i skip or from where we need to start\n",
        "#default starts with 0\n",
        "#stop-1\n",
        "#step-1\n"
      ],
      "metadata": {
        "id": "SNekK0aJ0B-K"
      },
      "execution_count": null,
      "outputs": []
    },
    {
      "cell_type": "code",
      "source": [
        "name: str =\"BANGALORE\"\n",
        "name[1:3:1]\n",
        "name[-1:-6:-1] #negative slicing\n",
        "#we need to add stop+1\n",
        "name [1:6:-1]\n",
        "name[3:0:-1]"
      ],
      "metadata": {
        "id": "imZPCZmP1_sa",
        "outputId": "c0749883-a3e6-4ddc-e250-7abab5a72054",
        "colab": {
          "base_uri": "https://localhost:8080/",
          "height": 35
        }
      },
      "execution_count": 8,
      "outputs": [
        {
          "output_type": "execute_result",
          "data": {
            "text/plain": [
              "'GNA'"
            ],
            "application/vnd.google.colaboratory.intrinsic+json": {
              "type": "string"
            }
          },
          "metadata": {},
          "execution_count": 8
        }
      ]
    },
    {
      "cell_type": "code",
      "source": [
        "s=\"BANGALORE\"\n",
        "print(s[3:0:-1])\n",
        "print(s[-9:7:1])"
      ],
      "metadata": {
        "id": "K9KbluFy4cql",
        "outputId": "c8ee7d3f-5a2f-467f-c964-38a260988378",
        "colab": {
          "base_uri": "https://localhost:8080/"
        }
      },
      "execution_count": 15,
      "outputs": [
        {
          "output_type": "stream",
          "name": "stdout",
          "text": [
            "GNA\n",
            "BANGALO\n"
          ]
        }
      ]
    },
    {
      "cell_type": "code",
      "source": [
        "i=int(input(\"Enter a Number:\"))\n",
        "a=1\n",
        "while a<=10 :\n",
        "  b=i*a\n",
        "  print(i,\"x\",a,\"=\",b)\n",
        "  a=a+1"
      ],
      "metadata": {
        "id": "nEeVM493J_JY",
        "outputId": "e10bac6b-69fb-4f7c-b391-6da2f58e5e5f",
        "colab": {
          "base_uri": "https://localhost:8080/"
        }
      },
      "execution_count": 20,
      "outputs": [
        {
          "output_type": "stream",
          "name": "stdout",
          "text": [
            "Enter a Number:7\n",
            "7 x 1 = 7\n",
            "7 x 2 = 14\n",
            "7 x 3 = 21\n",
            "7 x 4 = 28\n",
            "7 x 5 = 35\n",
            "7 x 6 = 42\n",
            "7 x 7 = 49\n",
            "7 x 8 = 56\n",
            "7 x 9 = 63\n",
            "7 x 10 = 70\n"
          ]
        }
      ]
    },
    {
      "cell_type": "code",
      "source": [
        "num = int(input(\"enter a number\"))\n",
        "\n",
        "i=1\n",
        "\n",
        "while i<10:\n",
        "\n",
        " print(i*num)\n",
        " i=i+1\n",
        "\n"
      ],
      "metadata": {
        "id": "3D1xoQiZIOs0",
        "outputId": "11c59966-1945-4364-f8f6-bf15fa0e8882",
        "colab": {
          "base_uri": "https://localhost:8080/"
        }
      },
      "execution_count": 19,
      "outputs": [
        {
          "output_type": "stream",
          "name": "stdout",
          "text": [
            "enter a number6\n",
            "6\n",
            "12\n",
            "18\n",
            "24\n",
            "30\n",
            "36\n",
            "42\n",
            "48\n",
            "54\n"
          ]
        }
      ]
    },
    {
      "cell_type": "code",
      "source": [
        "# for loop\n",
        "s = \"john\"\n",
        "\n",
        "for i in s:\n",
        "  print(i)"
      ],
      "metadata": {
        "id": "WJ13_7Hu19oY",
        "outputId": "b2ab0828-f54e-420a-abbc-00a087a7b25e",
        "colab": {
          "base_uri": "https://localhost:8080/"
        }
      },
      "execution_count": 25,
      "outputs": [
        {
          "output_type": "stream",
          "name": "stdout",
          "text": [
            "j\n",
            "o\n",
            "h\n",
            "n\n"
          ]
        }
      ]
    }
  ]
}