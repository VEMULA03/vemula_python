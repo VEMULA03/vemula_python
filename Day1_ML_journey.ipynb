{
  "nbformat": 4,
  "nbformat_minor": 0,
  "metadata": {
    "colab": {
      "provenance": []
    },
    "kernelspec": {
      "name": "python3",
      "display_name": "Python 3"
    },
    "language_info": {
      "name": "python"
    }
  },
  "cells": [
    {
      "cell_type": "code",
      "execution_count": null,
      "metadata": {
        "colab": {
          "base_uri": "https://localhost:8080/"
        },
        "id": "HpmbKqI7jltH",
        "outputId": "0ec1bf68-5f68-4ec7-f746-ea081ec8cab5"
      },
      "outputs": [
        {
          "output_type": "stream",
          "name": "stdout",
          "text": [
            "hello world\n"
          ]
        }
      ],
      "source": [
        "print(\"hello world\")"
      ]
    },
    {
      "cell_type": "code",
      "source": [
        "print(\"cherry\")"
      ],
      "metadata": {
        "colab": {
          "base_uri": "https://localhost:8080/"
        },
        "id": "LHyCAxRg7fxp",
        "outputId": "e0c415c3-4789-4da1-bdcc-34f05fe7905b"
      },
      "execution_count": null,
      "outputs": [
        {
          "output_type": "stream",
          "name": "stdout",
          "text": [
            "cherry\n"
          ]
        }
      ]
    },
    {
      "cell_type": "code",
      "source": [
        "print(\"Charan\")"
      ],
      "metadata": {
        "colab": {
          "base_uri": "https://localhost:8080/"
        },
        "id": "RMqGpaNw7ri5",
        "outputId": "5cee299f-4964-4516-c2e8-81e55801b34e"
      },
      "execution_count": null,
      "outputs": [
        {
          "output_type": "stream",
          "name": "stdout",
          "text": [
            "Charan\n"
          ]
        }
      ]
    },
    {
      "cell_type": "code",
      "source": [
        "ashdkjas"
      ],
      "metadata": {
        "id": "34ZbDQBAxLWX"
      },
      "execution_count": null,
      "outputs": []
    },
    {
      "cell_type": "code",
      "source": [
        "# single line comment\n",
        "\n",
        "st=\"\"\" add dd ffa aa lla\"\"\"\n",
        "print(st)"
      ],
      "metadata": {
        "colab": {
          "base_uri": "https://localhost:8080/"
        },
        "id": "DMVdDvBTR90e",
        "outputId": "04d6e56c-92b1-4858-93e8-482ea78411e8"
      },
      "execution_count": 1,
      "outputs": [
        {
          "output_type": "stream",
          "name": "stdout",
          "text": [
            " add dd ffa aa lla\n"
          ]
        }
      ]
    },
    {
      "cell_type": "code",
      "source": [
        "l=[20,30.3,\"ntt\",3+5j]\n",
        "print(l)\n",
        "print(type(l))\n"
      ],
      "metadata": {
        "id": "EK0ybJqOSx1Q",
        "outputId": "4811c6d5-9787-412f-8f2b-c779013d30aa",
        "colab": {
          "base_uri": "https://localhost:8080/"
        }
      },
      "execution_count": 3,
      "outputs": [
        {
          "output_type": "stream",
          "name": "stdout",
          "text": [
            "[20, 30.3, 'ntt', (3+5j)]\n",
            "<class 'list'>\n"
          ]
        }
      ]
    },
    {
      "cell_type": "code",
      "source": [
        "# type fn returns the data type class\n",
        "a=3+4j\n",
        "print(type(a))"
      ],
      "metadata": {
        "id": "3CSHNFvbTXhI",
        "outputId": "597f36a2-f460-4108-e82b-b4b1ed8dacb3",
        "colab": {
          "base_uri": "https://localhost:8080/"
        }
      },
      "execution_count": 4,
      "outputs": [
        {
          "output_type": "stream",
          "name": "stdout",
          "text": [
            "<class 'complex'>\n"
          ]
        }
      ]
    },
    {
      "cell_type": "code",
      "source": [
        "#varriable annotations\n",
        "\n",
        "name: str = \"NTT\"\n",
        "print(name)\n",
        "print(type(name) )\n",
        "\n",
        "print(__annotations__['name'])\n"
      ],
      "metadata": {
        "id": "IHN-Ckg5Y-0n",
        "outputId": "b1a6ca1c-943c-44d5-e7e1-c490fe4d2681",
        "colab": {
          "base_uri": "https://localhost:8080/"
        }
      },
      "execution_count": 5,
      "outputs": [
        {
          "output_type": "stream",
          "name": "stdout",
          "text": [
            "NTT\n",
            "<class 'str'>\n",
            "<class 'str'>\n"
          ]
        }
      ]
    },
    {
      "cell_type": "code",
      "source": [
        "# variable annotation\n",
        "\n",
        "aa: int = 10\n",
        "print(aa)\n",
        "\n",
        "print(__annotations__['aa'])\n",
        "print(type(aa))"
      ],
      "metadata": {
        "id": "A70OmsbNZ16R",
        "outputId": "bd6fed10-b0ad-4e55-d470-79b18d2e75f0",
        "colab": {
          "base_uri": "https://localhost:8080/"
        }
      },
      "execution_count": 6,
      "outputs": [
        {
          "output_type": "stream",
          "name": "stdout",
          "text": [
            "10\n",
            "<class 'int'>\n",
            "<class 'int'>\n"
          ]
        }
      ]
    }
  ]
}