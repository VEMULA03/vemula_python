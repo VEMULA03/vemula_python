{
  "nbformat": 4,
  "nbformat_minor": 0,
  "metadata": {
    "colab": {
      "provenance": []
    },
    "kernelspec": {
      "name": "python3",
      "display_name": "Python 3"
    },
    "language_info": {
      "name": "python"
    }
  },
  "cells": [
    {
      "cell_type": "code",
      "execution_count": null,
      "metadata": {
        "colab": {
          "base_uri": "https://localhost:8080/"
        },
        "id": "HpmbKqI7jltH",
        "outputId": "0ec1bf68-5f68-4ec7-f746-ea081ec8cab5"
      },
      "outputs": [
        {
          "output_type": "stream",
          "name": "stdout",
          "text": [
            "hello world\n"
          ]
        }
      ],
      "source": [
        "print(\"hello world\")"
      ]
    },
    {
      "cell_type": "code",
      "source": [
        "print(\"cherry\")"
      ],
      "metadata": {
        "colab": {
          "base_uri": "https://localhost:8080/"
        },
        "id": "LHyCAxRg7fxp",
        "outputId": "e0c415c3-4789-4da1-bdcc-34f05fe7905b"
      },
      "execution_count": null,
      "outputs": [
        {
          "output_type": "stream",
          "name": "stdout",
          "text": [
            "cherry\n"
          ]
        }
      ]
    },
    {
      "cell_type": "code",
      "source": [
        "print(\"Charan\")"
      ],
      "metadata": {
        "colab": {
          "base_uri": "https://localhost:8080/"
        },
        "id": "RMqGpaNw7ri5",
        "outputId": "5cee299f-4964-4516-c2e8-81e55801b34e"
      },
      "execution_count": null,
      "outputs": [
        {
          "output_type": "stream",
          "name": "stdout",
          "text": [
            "Charan\n"
          ]
        }
      ]
    },
    {
      "cell_type": "code",
      "source": [
        "ashdkjas"
      ],
      "metadata": {
        "id": "34ZbDQBAxLWX"
      },
      "execution_count": null,
      "outputs": []
    },
    {
      "cell_type": "code",
      "source": [
        "# single line comment\n",
        "\n",
        "st=\"\"\" add dd ffa aa lla\"\"\"\n",
        "print(st)"
      ],
      "metadata": {
        "colab": {
          "base_uri": "https://localhost:8080/"
        },
        "id": "DMVdDvBTR90e",
        "outputId": "04d6e56c-92b1-4858-93e8-482ea78411e8"
      },
      "execution_count": 1,
      "outputs": [
        {
          "output_type": "stream",
          "name": "stdout",
          "text": [
            " add dd ffa aa lla\n"
          ]
        }
      ]
    },
    {
      "cell_type": "code",
      "source": [
        "l=[20,30.3,\"ntt\",3+5j]\n",
        "print(l)\n",
        "print(type(l))\n"
      ],
      "metadata": {
        "colab": {
          "base_uri": "https://localhost:8080/"
        },
        "id": "EK0ybJqOSx1Q",
        "outputId": "4811c6d5-9787-412f-8f2b-c779013d30aa"
      },
      "execution_count": 3,
      "outputs": [
        {
          "output_type": "stream",
          "name": "stdout",
          "text": [
            "[20, 30.3, 'ntt', (3+5j)]\n",
            "<class 'list'>\n"
          ]
        }
      ]
    },
    {
      "cell_type": "code",
      "source": [
        "# type fn returns the data type class\n",
        "a=3+4j\n",
        "print(type(a))"
      ],
      "metadata": {
        "colab": {
          "base_uri": "https://localhost:8080/"
        },
        "id": "3CSHNFvbTXhI",
        "outputId": "597f36a2-f460-4108-e82b-b4b1ed8dacb3"
      },
      "execution_count": 4,
      "outputs": [
        {
          "output_type": "stream",
          "name": "stdout",
          "text": [
            "<class 'complex'>\n"
          ]
        }
      ]
    },
    {
      "cell_type": "code",
      "source": [
        "#varriable annotations\n",
        "\n",
        "name: str = \"NTT\"\n",
        "print(name)\n",
        "print(type(name) )\n",
        "\n",
        "print(__annotations__['name'])\n"
      ],
      "metadata": {
        "colab": {
          "base_uri": "https://localhost:8080/"
        },
        "id": "IHN-Ckg5Y-0n",
        "outputId": "b1a6ca1c-943c-44d5-e7e1-c490fe4d2681"
      },
      "execution_count": 5,
      "outputs": [
        {
          "output_type": "stream",
          "name": "stdout",
          "text": [
            "NTT\n",
            "<class 'str'>\n",
            "<class 'str'>\n"
          ]
        }
      ]
    },
    {
      "cell_type": "code",
      "source": [
        "# variable annotation\n",
        "\n",
        "aa: int = 10\n",
        "print(aa)\n",
        "\n",
        "print(__annotations__['aa'])\n",
        "print(type(aa))"
      ],
      "metadata": {
        "colab": {
          "base_uri": "https://localhost:8080/"
        },
        "id": "A70OmsbNZ16R",
        "outputId": "bd6fed10-b0ad-4e55-d470-79b18d2e75f0"
      },
      "execution_count": 6,
      "outputs": [
        {
          "output_type": "stream",
          "name": "stdout",
          "text": [
            "10\n",
            "<class 'int'>\n",
            "<class 'int'>\n"
          ]
        }
      ]
    },
    {
      "cell_type": "code",
      "source": [
        "#indexing\n",
        "#slicing\n",
        "\n",
        "var_name [start:stop:step]\n",
        "#step - can i skip or from where we need to start\n",
        "#default starts with 0\n",
        "#stop-1\n",
        "#step-1\n"
      ],
      "metadata": {
        "id": "SNekK0aJ0B-K"
      },
      "execution_count": null,
      "outputs": []
    },
    {
      "cell_type": "code",
      "source": [
        "name: str =\"BANGALORE\"\n",
        "name[1:3:1]\n",
        "name[-1:-6:-1] #negative slicing\n",
        "#we need to add stop+1\n",
        "name [1:6:-1]\n",
        "name[3:0:-1]"
      ],
      "metadata": {
        "colab": {
          "base_uri": "https://localhost:8080/",
          "height": 35
        },
        "id": "imZPCZmP1_sa",
        "outputId": "c0749883-a3e6-4ddc-e250-7abab5a72054"
      },
      "execution_count": 8,
      "outputs": [
        {
          "output_type": "execute_result",
          "data": {
            "text/plain": [
              "'GNA'"
            ],
            "application/vnd.google.colaboratory.intrinsic+json": {
              "type": "string"
            }
          },
          "metadata": {},
          "execution_count": 8
        }
      ]
    },
    {
      "cell_type": "code",
      "source": [
        "s=\"BANGALORE\"\n",
        "print(s[3:0:-1])\n",
        "print(s[-9:7:1])"
      ],
      "metadata": {
        "colab": {
          "base_uri": "https://localhost:8080/"
        },
        "id": "K9KbluFy4cql",
        "outputId": "c8ee7d3f-5a2f-467f-c964-38a260988378"
      },
      "execution_count": 15,
      "outputs": [
        {
          "output_type": "stream",
          "name": "stdout",
          "text": [
            "GNA\n",
            "BANGALO\n"
          ]
        }
      ]
    },
    {
      "cell_type": "code",
      "source": [
        "i=int(input(\"Enter a Number:\"))\n",
        "a=1\n",
        "while a<=10 :\n",
        "  b=i*a\n",
        "  print(i,\"x\",a,\"=\",b)\n",
        "  a=a+1"
      ],
      "metadata": {
        "colab": {
          "base_uri": "https://localhost:8080/"
        },
        "id": "nEeVM493J_JY",
        "outputId": "e10bac6b-69fb-4f7c-b391-6da2f58e5e5f"
      },
      "execution_count": 20,
      "outputs": [
        {
          "output_type": "stream",
          "name": "stdout",
          "text": [
            "Enter a Number:7\n",
            "7 x 1 = 7\n",
            "7 x 2 = 14\n",
            "7 x 3 = 21\n",
            "7 x 4 = 28\n",
            "7 x 5 = 35\n",
            "7 x 6 = 42\n",
            "7 x 7 = 49\n",
            "7 x 8 = 56\n",
            "7 x 9 = 63\n",
            "7 x 10 = 70\n"
          ]
        }
      ]
    },
    {
      "cell_type": "code",
      "source": [
        "num = int(input(\"enter a number\"))\n",
        "\n",
        "i=1\n",
        "\n",
        "while i<10:\n",
        "\n",
        " print(i*num)\n",
        " i=i+1\n",
        "\n"
      ],
      "metadata": {
        "colab": {
          "base_uri": "https://localhost:8080/"
        },
        "id": "3D1xoQiZIOs0",
        "outputId": "11c59966-1945-4364-f8f6-bf15fa0e8882"
      },
      "execution_count": 19,
      "outputs": [
        {
          "output_type": "stream",
          "name": "stdout",
          "text": [
            "enter a number6\n",
            "6\n",
            "12\n",
            "18\n",
            "24\n",
            "30\n",
            "36\n",
            "42\n",
            "48\n",
            "54\n"
          ]
        }
      ]
    },
    {
      "cell_type": "code",
      "source": [
        "# for loop\n",
        "s = \"john\"\n",
        "\n",
        "for i in s:\n",
        "  print(i)"
      ],
      "metadata": {
        "colab": {
          "base_uri": "https://localhost:8080/"
        },
        "id": "WJ13_7Hu19oY",
        "outputId": "b2ab0828-f54e-420a-abbc-00a087a7b25e"
      },
      "execution_count": 25,
      "outputs": [
        {
          "output_type": "stream",
          "name": "stdout",
          "text": [
            "j\n",
            "o\n",
            "h\n",
            "n\n"
          ]
        }
      ]
    },
    {
      "cell_type": "code",
      "source": [
        "# split method\n",
        "\n",
        "s = \"I live in mumbai\"\n",
        "#k= w.split(' ')\n",
        "w= \"india,usa,australia\"\n",
        "k= w.split(',')\n",
        "print(k)"
      ],
      "metadata": {
        "colab": {
          "base_uri": "https://localhost:8080/"
        },
        "id": "5r9Sd72zxWZx",
        "outputId": "9cadae10-f046-4aac-85c2-c12616c5b7ca"
      },
      "execution_count": 2,
      "outputs": [
        {
          "output_type": "stream",
          "name": "stdout",
          "text": [
            "['india', 'usa', 'australia']\n"
          ]
        }
      ]
    },
    {
      "cell_type": "code",
      "source": [
        "#List\n",
        "\n",
        "l1=[10,20,3.14,\"NTT DATA\",2+3j,[100,200,300]]\n",
        "print(l1)\n",
        "print(type(l1))\n",
        "\n",
        "print(l1[5][1])\n",
        "print(l1[0],l1[1],l1[-2])"
      ],
      "metadata": {
        "colab": {
          "base_uri": "https://localhost:8080/"
        },
        "id": "gMB_wTD9yaVQ",
        "outputId": "821ec64b-ee7f-403a-82e5-a9e922e28ed1"
      },
      "execution_count": 4,
      "outputs": [
        {
          "output_type": "stream",
          "name": "stdout",
          "text": [
            "[10, 20, 3.14, 'NTT DATA', (2+3j), [100, 200, 300]]\n",
            "<class 'list'>\n",
            "200\n",
            "10 20 (2+3j)\n"
          ]
        }
      ]
    },
    {
      "cell_type": "code",
      "source": [
        "#slicing in list\n",
        "\n",
        "l1=[10,20,3.14,\"NTT DATA\",2+3j,[100,200,300]]\n",
        "\n",
        "print(l1[0:4])\n",
        "print(l1[0:4:2])\n",
        "print(l1[::])\n",
        "print(l1[::-1])\n"
      ],
      "metadata": {
        "colab": {
          "base_uri": "https://localhost:8080/"
        },
        "id": "-ctVhdNnzR4M",
        "outputId": "9c04f767-7fc2-4829-b44b-18c061636e01"
      },
      "execution_count": 8,
      "outputs": [
        {
          "output_type": "stream",
          "name": "stdout",
          "text": [
            "[10, 20, 3.14, 'NTT DATA']\n",
            "[10, 3.14]\n",
            "[10, 20, 3.14, 'NTT DATA', (2+3j), [100, 200, 300]]\n",
            "[[100, 200, 300], (2+3j), 'NTT DATA', 3.14, 20, 10]\n"
          ]
        }
      ]
    },
    {
      "cell_type": "code",
      "source": [
        "#concatenation of list\n",
        "\n",
        "l1=[10,20,30]\n",
        "l2=[100,200,300]\n",
        "l3=l1+l2\n",
        "print(l1)\n",
        "print(l2)\n",
        "print(l3)\n",
        "\n",
        "print(l1+l2)\n",
        "print(l3)\n",
        "\n"
      ],
      "metadata": {
        "colab": {
          "base_uri": "https://localhost:8080/"
        },
        "id": "zseUB-gazf1I",
        "outputId": "842c00eb-7723-4f56-d02c-3d867d6d3477"
      },
      "execution_count": 9,
      "outputs": [
        {
          "output_type": "stream",
          "name": "stdout",
          "text": [
            "[10, 20, 30]\n",
            "[100, 200, 300]\n",
            "[10, 20, 30, 100, 200, 300]\n",
            "[10, 20, 30, 100, 200, 300]\n",
            "[10, 20, 30, 100, 200, 300]\n"
          ]
        }
      ]
    },
    {
      "cell_type": "code",
      "source": [
        "#mulitplication of list\n",
        "\n",
        "l1=[10,20,30]\n",
        "print(l1[2]*3)\n",
        "print(l1*3)"
      ],
      "metadata": {
        "colab": {
          "base_uri": "https://localhost:8080/"
        },
        "id": "0l3hWOzr1FBD",
        "outputId": "160a1c98-fafc-4540-fc90-ffb4ef2c756a"
      },
      "execution_count": 10,
      "outputs": [
        {
          "output_type": "stream",
          "name": "stdout",
          "text": [
            "90\n",
            "[10, 20, 30, 10, 20, 30, 10, 20, 30]\n"
          ]
        }
      ]
    },
    {
      "cell_type": "code",
      "source": [
        "#iteration of list\n",
        "\n",
        "l1=[10,20,30,40,50]\n",
        " for i in l1;\n",
        " print(i+5)"
      ],
      "metadata": {
        "colab": {
          "base_uri": "https://localhost:8080/",
          "height": 106
        },
        "id": "L7jA_P9y1i2Q",
        "outputId": "de3fbd4c-3657-4987-8c96-d98aa8b4f3ca"
      },
      "execution_count": 11,
      "outputs": [
        {
          "output_type": "error",
          "ename": "IndentationError",
          "evalue": "unexpected indent (<ipython-input-11-85994325ec0f>, line 4)",
          "traceback": [
            "\u001b[0;36m  File \u001b[0;32m\"<ipython-input-11-85994325ec0f>\"\u001b[0;36m, line \u001b[0;32m4\u001b[0m\n\u001b[0;31m    for i in l1;\u001b[0m\n\u001b[0m    ^\u001b[0m\n\u001b[0;31mIndentationError\u001b[0m\u001b[0;31m:\u001b[0m unexpected indent\n"
          ]
        }
      ]
    },
    {
      "cell_type": "code",
      "source": [
        "#membership operator\n",
        "\n",
        "print(10 in [10,20,30])\n",
        "print(100 in [10,20,30])\n",
        "print (10 not in [10,20,30])\n",
        "print (100 not in [10,20,30])"
      ],
      "metadata": {
        "colab": {
          "base_uri": "https://localhost:8080/"
        },
        "id": "BC0itIul2BQc",
        "outputId": "aa6f706b-20c7-43cf-de6a-3e44208ea15b"
      },
      "execution_count": 12,
      "outputs": [
        {
          "output_type": "stream",
          "name": "stdout",
          "text": [
            "True\n",
            "False\n",
            "False\n",
            "True\n"
          ]
        }
      ]
    },
    {
      "cell_type": "code",
      "source": [
        "#deletion of list\n",
        "\n",
        "l1=[10,20,30,40]\n",
        "print(l1)\n",
        "del l1\n",
        "print(l1)\n",
        "#del l1[1]\n",
        "#print(l1)"
      ],
      "metadata": {
        "colab": {
          "base_uri": "https://localhost:8080/",
          "height": 228
        },
        "id": "MpBRgx7f2hOP",
        "outputId": "cd70e3bf-dce9-4a42-f9f5-8f3a4fc17a0b"
      },
      "execution_count": 15,
      "outputs": [
        {
          "output_type": "stream",
          "name": "stdout",
          "text": [
            "[10, 20, 30, 40]\n"
          ]
        },
        {
          "output_type": "error",
          "ename": "NameError",
          "evalue": "name 'l1' is not defined",
          "traceback": [
            "\u001b[0;31m---------------------------------------------------------------------------\u001b[0m",
            "\u001b[0;31mNameError\u001b[0m                                 Traceback (most recent call last)",
            "\u001b[0;32m<ipython-input-15-4893682bce77>\u001b[0m in \u001b[0;36m<cell line: 0>\u001b[0;34m()\u001b[0m\n\u001b[1;32m      4\u001b[0m \u001b[0mprint\u001b[0m\u001b[0;34m(\u001b[0m\u001b[0ml1\u001b[0m\u001b[0;34m)\u001b[0m\u001b[0;34m\u001b[0m\u001b[0;34m\u001b[0m\u001b[0m\n\u001b[1;32m      5\u001b[0m \u001b[0;32mdel\u001b[0m \u001b[0ml1\u001b[0m\u001b[0;34m\u001b[0m\u001b[0;34m\u001b[0m\u001b[0m\n\u001b[0;32m----> 6\u001b[0;31m \u001b[0mprint\u001b[0m\u001b[0;34m(\u001b[0m\u001b[0ml1\u001b[0m\u001b[0;34m)\u001b[0m\u001b[0;34m\u001b[0m\u001b[0;34m\u001b[0m\u001b[0m\n\u001b[0m\u001b[1;32m      7\u001b[0m \u001b[0;31m#del l1[1]\u001b[0m\u001b[0;34m\u001b[0m\u001b[0;34m\u001b[0m\u001b[0m\n\u001b[1;32m      8\u001b[0m \u001b[0;31m#print(l1)\u001b[0m\u001b[0;34m\u001b[0m\u001b[0;34m\u001b[0m\u001b[0m\n",
            "\u001b[0;31mNameError\u001b[0m: name 'l1' is not defined"
          ]
        }
      ]
    },
    {
      "cell_type": "code",
      "source": [
        "#inbuilt functions\n",
        "#max\n",
        "#donot use mixed data types for max function\n",
        "#max(iterable,key,default)\n",
        "\n",
        "l1=[10,200,30,500,4]\n",
        "print(max(l1))\n",
        "\n",
        "l2=[\"aaa\",\"bbbb\",\"cccc\",\"dddd\"]\n",
        "print(max(l2))\n",
        "\n",
        "l3 = [10,20,\"nttdata\"]\n",
        "#print(max(l3))\n",
        "\n",
        "l4=[\"aaa\",\"bbbb\",\"cccc\",\"dddd\"]\n",
        "print(max(l4,key = len))"
      ],
      "metadata": {
        "colab": {
          "base_uri": "https://localhost:8080/"
        },
        "id": "bfJUgvfH34uq",
        "outputId": "2abf0002-6475-4a81-e125-1ccddc6573f1"
      },
      "execution_count": 22,
      "outputs": [
        {
          "output_type": "stream",
          "name": "stdout",
          "text": [
            "500\n",
            "dddd\n",
            "bbbb\n"
          ]
        }
      ]
    },
    {
      "cell_type": "code",
      "source": [
        "l1=[10,200,30,500,4]\n",
        "\n",
        "l1.append(50)\n",
        "l1.append(50)\n",
        "l1.append(60)\n",
        "l1.append(40)\n",
        "\n",
        "print(l1)"
      ],
      "metadata": {
        "colab": {
          "base_uri": "https://localhost:8080/"
        },
        "id": "dJwz_sB24xvk",
        "outputId": "d2209338-fed4-495c-a55a-f74948ad1122"
      },
      "execution_count": 25,
      "outputs": [
        {
          "output_type": "stream",
          "name": "stdout",
          "text": [
            "[10, 200, 30, 500, 4, 50, 50, 60, 40]\n"
          ]
        }
      ]
    },
    {
      "cell_type": "code",
      "source": [
        "l1=[10,20]\n",
        "\n",
        "for i in range(6):\n",
        "    i=int(input(\"Enter the element\"))\n",
        "    l1.append(i)\n",
        "print(l1)\n"
      ],
      "metadata": {
        "colab": {
          "base_uri": "https://localhost:8080/"
        },
        "id": "qRdVaN9Z7LXL",
        "outputId": "2071a357-18da-4378-8c59-92e9175f8fb5"
      },
      "execution_count": 27,
      "outputs": [
        {
          "output_type": "stream",
          "name": "stdout",
          "text": [
            "Enter the element6\n",
            "Enter the element4\n",
            "Enter the element7\n",
            "Enter the element8\n",
            "Enter the element9\n",
            "Enter the element0\n",
            "[10, 20, 6, 4, 7, 8, 9, 0]\n"
          ]
        }
      ]
    },
    {
      "cell_type": "code",
      "source": [
        "#extend method\n",
        "l1=[10,20]\n",
        "l2=[13,24]\n",
        "\n",
        "l1.extend([11,30])\n",
        "print(l1)\n"
      ],
      "metadata": {
        "colab": {
          "base_uri": "https://localhost:8080/"
        },
        "id": "XdOuqseF-fpy",
        "outputId": "dc9dccd4-8283-4e27-a139-ee58f5f65f09"
      },
      "execution_count": 30,
      "outputs": [
        {
          "output_type": "stream",
          "name": "stdout",
          "text": [
            "[10, 20, 11, 30]\n"
          ]
        }
      ]
    },
    {
      "cell_type": "code",
      "source": [
        "#insert method\n",
        "\n",
        "l1=[10,20]\n",
        "l1.insert(0,100)\n",
        "print(l1)"
      ],
      "metadata": {
        "colab": {
          "base_uri": "https://localhost:8080/"
        },
        "id": "BxSzmK2B-7E-",
        "outputId": "ef75331f-c515-4b64-d005-732ff18c8304"
      },
      "execution_count": 33,
      "outputs": [
        {
          "output_type": "stream",
          "name": "stdout",
          "text": [
            "[100, 10, 20]\n"
          ]
        }
      ]
    },
    {
      "cell_type": "code",
      "source": [
        "#remove method\n",
        "\n",
        "l1=[10,10,3,20,50,8,9]\n",
        "l1.remove(10)\n",
        "print(l1)"
      ],
      "metadata": {
        "colab": {
          "base_uri": "https://localhost:8080/"
        },
        "id": "p6ql5vPA_SrT",
        "outputId": "81ec294f-9fd2-450b-cf3e-2980189b1b72"
      },
      "execution_count": 34,
      "outputs": [
        {
          "output_type": "stream",
          "name": "stdout",
          "text": [
            "[10, 3, 20, 50, 8, 9]\n"
          ]
        }
      ]
    },
    {
      "cell_type": "code",
      "source": [
        "#pop method\n",
        "#remove works on value\n",
        "#pop works on index\n",
        "\n",
        "l1=[10,20,30,40,50]\n",
        "res=l1.pop()\n",
        "print(res)\n",
        "print(l1)\n",
        "\n",
        "res=l1.pop(2)\n",
        "print(res)\n",
        "print(l1)"
      ],
      "metadata": {
        "colab": {
          "base_uri": "https://localhost:8080/"
        },
        "id": "AZgb_us0_yYu",
        "outputId": "cec84f9f-cea3-4cd1-ca47-481db66faae9"
      },
      "execution_count": 36,
      "outputs": [
        {
          "output_type": "stream",
          "name": "stdout",
          "text": [
            "50\n",
            "[10, 20, 30, 40]\n",
            "30\n",
            "[10, 20, 40]\n"
          ]
        }
      ]
    },
    {
      "cell_type": "code",
      "source": [
        "#clear\n",
        "\n",
        "l1=[10,20,30,40,50]\n",
        "print(l1)\n",
        "l1.clear()\n",
        "print(l1)"
      ],
      "metadata": {
        "colab": {
          "base_uri": "https://localhost:8080/"
        },
        "id": "f4rT5QLOA-O_",
        "outputId": "5217ff99-c4e5-48f5-cd6c-4a0884f3c421"
      },
      "execution_count": 37,
      "outputs": [
        {
          "output_type": "stream",
          "name": "stdout",
          "text": [
            "[10, 20, 30, 40, 50]\n",
            "[]\n"
          ]
        }
      ]
    },
    {
      "cell_type": "code",
      "source": [
        "#clear\n",
        "\n",
        "l1=[10,10,20,30,40,10,50]\n",
        "print(l1)\n",
        "l1.clear(10)\n",
        "print(l1)"
      ],
      "metadata": {
        "colab": {
          "base_uri": "https://localhost:8080/",
          "height": 211
        },
        "id": "LZ206aCOBOjn",
        "outputId": "50faae5f-b1d6-4001-b487-aa4dcabd47c0"
      },
      "execution_count": 38,
      "outputs": [
        {
          "output_type": "stream",
          "name": "stdout",
          "text": [
            "[10, 10, 20, 30, 40, 10, 50]\n"
          ]
        },
        {
          "output_type": "error",
          "ename": "TypeError",
          "evalue": "list.clear() takes no arguments (1 given)",
          "traceback": [
            "\u001b[0;31m---------------------------------------------------------------------------\u001b[0m",
            "\u001b[0;31mTypeError\u001b[0m                                 Traceback (most recent call last)",
            "\u001b[0;32m<ipython-input-38-8bd7f73a20d6>\u001b[0m in \u001b[0;36m<cell line: 0>\u001b[0;34m()\u001b[0m\n\u001b[1;32m      3\u001b[0m \u001b[0ml1\u001b[0m\u001b[0;34m=\u001b[0m\u001b[0;34m[\u001b[0m\u001b[0;36m10\u001b[0m\u001b[0;34m,\u001b[0m\u001b[0;36m10\u001b[0m\u001b[0;34m,\u001b[0m\u001b[0;36m20\u001b[0m\u001b[0;34m,\u001b[0m\u001b[0;36m30\u001b[0m\u001b[0;34m,\u001b[0m\u001b[0;36m40\u001b[0m\u001b[0;34m,\u001b[0m\u001b[0;36m10\u001b[0m\u001b[0;34m,\u001b[0m\u001b[0;36m50\u001b[0m\u001b[0;34m]\u001b[0m\u001b[0;34m\u001b[0m\u001b[0;34m\u001b[0m\u001b[0m\n\u001b[1;32m      4\u001b[0m \u001b[0mprint\u001b[0m\u001b[0;34m(\u001b[0m\u001b[0ml1\u001b[0m\u001b[0;34m)\u001b[0m\u001b[0;34m\u001b[0m\u001b[0;34m\u001b[0m\u001b[0m\n\u001b[0;32m----> 5\u001b[0;31m \u001b[0ml1\u001b[0m\u001b[0;34m.\u001b[0m\u001b[0mclear\u001b[0m\u001b[0;34m(\u001b[0m\u001b[0;36m10\u001b[0m\u001b[0;34m)\u001b[0m\u001b[0;34m\u001b[0m\u001b[0;34m\u001b[0m\u001b[0m\n\u001b[0m\u001b[1;32m      6\u001b[0m \u001b[0mprint\u001b[0m\u001b[0;34m(\u001b[0m\u001b[0ml1\u001b[0m\u001b[0;34m)\u001b[0m\u001b[0;34m\u001b[0m\u001b[0;34m\u001b[0m\u001b[0m\n",
            "\u001b[0;31mTypeError\u001b[0m: list.clear() takes no arguments (1 given)"
          ]
        }
      ]
    },
    {
      "cell_type": "code",
      "source": [
        "#program to remove duplicate elements\n",
        "\n",
        "l1=[10,20,30,10,20,45]\n",
        "ulist = [] #unique list\n",
        "\n",
        "for i in l1:\n",
        "  if i not in ulist:\n",
        "    ulist.append(i)\n",
        "print(l1)\n",
        "print(ulist)\n"
      ],
      "metadata": {
        "colab": {
          "base_uri": "https://localhost:8080/"
        },
        "id": "zRuAp02MEhDR",
        "outputId": "8fb729f7-88b6-41c7-db4e-54cfa3099bf9"
      },
      "execution_count": 39,
      "outputs": [
        {
          "output_type": "stream",
          "name": "stdout",
          "text": [
            "[10, 20, 30, 10, 20, 45]\n",
            "[10, 20, 30, 45]\n"
          ]
        }
      ]
    },
    {
      "cell_type": "code",
      "source": [
        "#list method\n",
        "\n",
        "l1=list()\n",
        "print(l1)\n",
        "print(type(l1))"
      ],
      "metadata": {
        "id": "XfHJVK1zDC9P",
        "outputId": "37ef91ba-e243-4002-bdd4-87a8aa54bd93",
        "colab": {
          "base_uri": "https://localhost:8080/"
        }
      },
      "execution_count": 1,
      "outputs": [
        {
          "output_type": "stream",
          "name": "stdout",
          "text": [
            "[]\n",
            "<class 'list'>\n"
          ]
        }
      ]
    },
    {
      "cell_type": "code",
      "source": [
        "s=\"NTT DATA\"\n",
        "l2=list(s)\n",
        "print(l2)"
      ],
      "metadata": {
        "id": "dlQgiEe1DCtO",
        "outputId": "85a92e30-3b1a-40ca-aa5f-8d9194143414",
        "colab": {
          "base_uri": "https://localhost:8080/"
        }
      },
      "execution_count": 3,
      "outputs": [
        {
          "output_type": "stream",
          "name": "stdout",
          "text": [
            "['N', 'T', 'T', ' ', 'D', 'A', 'T', 'A']\n"
          ]
        }
      ]
    },
    {
      "cell_type": "code",
      "source": [
        "l3=list(range(1,7))\n",
        "print(l3)"
      ],
      "metadata": {
        "id": "fKIdZ9HrD5GF",
        "outputId": "68ea8075-75a6-4bf6-ac92-debcf7d5f616",
        "colab": {
          "base_uri": "https://localhost:8080/"
        }
      },
      "execution_count": 4,
      "outputs": [
        {
          "output_type": "stream",
          "name": "stdout",
          "text": [
            "[1, 2, 3, 4, 5, 6]\n"
          ]
        }
      ]
    },
    {
      "cell_type": "code",
      "source": [
        "#Print the occurance of element\n",
        "\n",
        "l1=[1,1,2,3,4,4,5,6,6,6]\n",
        "l2=[]\n",
        "l3=[]\n",
        "for num in l1:\n",
        "  if num not in l2:\n",
        "     l2.append(num)\n",
        "     l3.append(l1.count(num))\n",
        "print(l2)\n",
        "print(l3)"
      ],
      "metadata": {
        "id": "fiYY4BZ7D415",
        "outputId": "5ada769c-3c43-4b7d-b8d5-20f499a5e8fe",
        "colab": {
          "base_uri": "https://localhost:8080/"
        }
      },
      "execution_count": 11,
      "outputs": [
        {
          "output_type": "stream",
          "name": "stdout",
          "text": [
            "[1, 2, 3, 4, 5, 6]\n",
            "[2, 1, 1, 2, 1, 3]\n"
          ]
        }
      ]
    },
    {
      "cell_type": "code",
      "source": [
        "#print occurance\n",
        "l1=[1,1,2,3,4,4,5,6,6,6]\n",
        "uele=[]\n",
        "count =[]\n",
        "\n",
        "for i in l1:\n",
        "  if i not in uele:\n",
        "#print occurance\n",
        "l1=[1,1,2,3,4,4,5,6,6,6]\n",
        "uele=[]\n",
        "count =[]\n",
        "\n",
        "for i in l1:\n",
        "  if i not in uele:\n",
        "   uele.append(i)\n",
        "   count.append(1)\n",
        "  else:\n",
        "   index = uele.index(i)\n",
        "   count[index]=count[index]+1\n",
        "print(uele)\n",
        "print(count)\n",
        "print(uele)\n",
        "print(count)\n",
        "\n"
      ],
      "metadata": {
        "id": "Yl6uLZFRHq54",
        "outputId": "cc419dea-2ed9-4b80-e6c6-5e1c89712424",
        "colab": {
          "base_uri": "https://localhost:8080/",
          "height": 106
        }
      },
      "execution_count": 22,
      "outputs": [
        {
          "output_type": "error",
          "ename": "SyntaxError",
          "evalue": "expected ':' (<ipython-input-22-f258c7dcda39>, line 10)",
          "traceback": [
            "\u001b[0;36m  File \u001b[0;32m\"<ipython-input-22-f258c7dcda39>\"\u001b[0;36m, line \u001b[0;32m10\u001b[0m\n\u001b[0;31m    else\u001b[0m\n\u001b[0m         ^\u001b[0m\n\u001b[0;31mSyntaxError\u001b[0m\u001b[0;31m:\u001b[0m expected ':'\n"
          ]
        }
      ]
    },
    {
      "cell_type": "code",
      "source": [
        "#tuple"
      ],
      "metadata": {
        "id": "SdfYq2VmKgoX"
      },
      "execution_count": null,
      "outputs": []
    }
  ]
}